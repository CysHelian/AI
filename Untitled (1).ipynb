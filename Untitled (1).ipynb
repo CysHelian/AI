{
 "cells": [
  {
   "cell_type": "code",
   "execution_count": 33,
   "id": "d89b653d-f9d7-41d4-808a-44e464057452",
   "metadata": {},
   "outputs": [
    {
     "name": "stdout",
     "output_type": "stream",
     "text": [
      "找到1次\n"
     ]
    }
   ],
   "source": [
    "import requests,os\n",
    "from bs4 import BeautifulSoup\n",
    "\n",
    "#指定要抓的網址  http://www.ntcu.edu.tw/newweb/index.htm\n",
    "url = 'https://www.ntcu.edu.tw/'\n",
    "\n",
    "html = requests.get(url)\n",
    "html.encoding=\"utf-8\"\n",
    "\n",
    "sp = BeautifulSoup(html.text, 'html.parser')\n",
    "\n",
    "keyword = \"學分\"\n",
    "n = 0\n",
    "for text in sp.stripped_strings:\n",
    "    if keyword in text:\n",
    "        n = n + 1\n",
    "print(\"找到{}次\".format(n))"
   ]
  },
  {
   "cell_type": "code",
   "execution_count": null,
   "id": "93c8cdfd-9dfa-4dd6-b8d9-b4dd2fe06b8c",
   "metadata": {},
   "outputs": [],
   "source": []
  },
  {
   "cell_type": "code",
   "execution_count": null,
   "id": "ea3c4fe1-2e4c-44f5-8888-f9518c41eca0",
   "metadata": {},
   "outputs": [],
   "source": []
  }
 ],
 "metadata": {
  "kernelspec": {
   "display_name": "Python [conda env:base] *",
   "language": "python",
   "name": "conda-base-py"
  },
  "language_info": {
   "codemirror_mode": {
    "name": "ipython",
    "version": 3
   },
   "file_extension": ".py",
   "mimetype": "text/x-python",
   "name": "python",
   "nbconvert_exporter": "python",
   "pygments_lexer": "ipython3",
   "version": "3.12.7"
  }
 },
 "nbformat": 4,
 "nbformat_minor": 5
}
